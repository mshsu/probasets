{
  "nbformat": 4,
  "nbformat_minor": 0,
  "metadata": {
    "colab": {
      "provenance": [],
      "authorship_tag": "ABX9TyOzIixjxZVj8XLraP0nv/Qq",
      "include_colab_link": true
    },
    "kernelspec": {
      "name": "python3",
      "display_name": "Python 3"
    },
    "language_info": {
      "name": "python"
    }
  },
  "cells": [
    {
      "cell_type": "markdown",
      "metadata": {
        "id": "view-in-github",
        "colab_type": "text"
      },
      "source": [
        "<a href=\"https://colab.research.google.com/github/mshsu/probasets/blob/main/scrape/crime_scrape.ipynb\" target=\"_parent\"><img src=\"https://colab.research.google.com/assets/colab-badge.svg\" alt=\"Open In Colab\"/></a>"
      ]
    },
    {
      "cell_type": "code",
      "execution_count": 33,
      "metadata": {
        "id": "Lgmeptsil1zJ"
      },
      "outputs": [],
      "source": [
        "import pandas as pd\n",
        "import requests\n",
        "import time\n",
        "from random import sample"
      ]
    },
    {
      "cell_type": "code",
      "source": [
        "st_abbr = pd.read_csv(\"https://www2.census.gov/geo/docs/reference/state.txt\", sep='|')['STUSAB']"
      ],
      "metadata": {
        "id": "iGLWXVy7l3wh"
      },
      "execution_count": 5,
      "outputs": []
    },
    {
      "cell_type": "code",
      "source": [
        "url = \"https://api.usa.gov/crime/fbi/cde/\""
      ],
      "metadata": {
        "id": "-koWcVQ5rOi3"
      },
      "execution_count": 25,
      "outputs": []
    },
    {
      "cell_type": "code",
      "source": [
        "keyfile = open('account.info', 'r')\n",
        "key = keyfile.read()"
      ],
      "metadata": {
        "id": "OsWLxQ39mQAh"
      },
      "execution_count": 6,
      "outputs": []
    },
    {
      "cell_type": "code",
      "source": [
        "agencies = []\n",
        "for state in st_abbr:\n",
        "  try:\n",
        "    print(\"Fetching \" + state + \"...\", end = \"\")\n",
        "    response = requests.get(url + \"agency/byStateAbbr/\" + state + \"?API_KEY=\" + key)\n",
        "    raw = response.json()\n",
        "    oris = []\n",
        "    for agcy in raw:\n",
        "      oris.append(agcy[\"ori\"])\n",
        "    print(\" OK\")\n",
        "    agencies = agencies + oris\n",
        "    time.sleep(0.25)\n",
        "  except:\n",
        "    print(' NO DATA')"
      ],
      "metadata": {
        "id": "1FbVVt87mJFe"
      },
      "execution_count": null,
      "outputs": []
    },
    {
      "cell_type": "code",
      "source": [
        "crimes = ['aggravated-assault', 'violent-crime', 'robbery', 'arson',\n",
        "          'human-trafficing', 'rape-legacy', 'homicide', 'burglary',\n",
        "          'motor-vehicle-theft', 'larceny', 'rape', 'property-crime']\n",
        "stats = []\n",
        "\n",
        "for ori in sample(agencies, 2000):\n",
        "  estimates = dict.fromkeys(['ori'] + crimes)\n",
        "  estimates['ori'] = ori\n",
        "  for c in crimes:\n",
        "    response = requests.get(url + \"summarized/agency/\" + ori + \"/\" \n",
        "                            + c + \"?from=2021&to=2021&API_KEY=\" + key)\n",
        "    raw = response.json()\n",
        "    if len(raw) > 0:\n",
        "      estimates[c] = raw[0]['actual']\n",
        "    time.sleep(0.01)\n",
        "  stats.append(estimates)"
      ],
      "metadata": {
        "id": "Jc5EODBjrCk1"
      },
      "execution_count": null,
      "outputs": []
    },
    {
      "cell_type": "code",
      "source": [
        "pd.DataFrame(stats)"
      ],
      "metadata": {
        "id": "oWaMeJ1hMhI6"
      },
      "execution_count": null,
      "outputs": []
    },
    {
      "cell_type": "code",
      "source": [
        "pd.DataFrame(stats).to_csv('Crime.csv', index = False)"
      ],
      "metadata": {
        "id": "qYlhsZgfK2Bv"
      },
      "execution_count": null,
      "outputs": []
    }
  ]
}