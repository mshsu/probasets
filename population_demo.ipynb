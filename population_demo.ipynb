{
  "nbformat": 4,
  "nbformat_minor": 0,
  "metadata": {
    "colab": {
      "provenance": [],
      "toc_visible": true,
      "authorship_tag": "ABX9TyP97ERuiiJIiekF0lukoYXt",
      "include_colab_link": true
    },
    "kernelspec": {
      "name": "python3",
      "display_name": "Python 3"
    },
    "language_info": {
      "name": "python"
    },
    "widgets": {
      "application/vnd.jupyter.widget-state+json": {
        "f2c4bf49c11f4815a2305255753a6d01": {
          "model_module": "@jupyter-widgets/controls",
          "model_name": "VBoxModel",
          "model_module_version": "1.5.0",
          "state": {
            "_dom_classes": [
              "widget-interact"
            ],
            "_model_module": "@jupyter-widgets/controls",
            "_model_module_version": "1.5.0",
            "_model_name": "VBoxModel",
            "_view_count": null,
            "_view_module": "@jupyter-widgets/controls",
            "_view_module_version": "1.5.0",
            "_view_name": "VBoxView",
            "box_style": "",
            "children": [
              "IPY_MODEL_31bb1db3fa4b406d80e60b6e1aea178b",
              "IPY_MODEL_8c8b5681bfb84a94a34c76b22678418a"
            ],
            "layout": "IPY_MODEL_8d049f536ac24a5685947081fc0309eb"
          }
        },
        "31bb1db3fa4b406d80e60b6e1aea178b": {
          "model_module": "@jupyter-widgets/controls",
          "model_name": "DropdownModel",
          "model_module_version": "1.5.0",
          "state": {
            "_dom_classes": [],
            "_model_module": "@jupyter-widgets/controls",
            "_model_module_version": "1.5.0",
            "_model_name": "DropdownModel",
            "_options_labels": [
              "POPESTIMATE2020",
              "POPESTIMATE2021",
              "POPESTIMATE2022",
              "BIRTHS2020",
              "BIRTHS2021",
              "BIRTHS2022",
              "DEATHS2020",
              "DEATHS2021",
              "DEATHS2022"
            ],
            "_view_count": null,
            "_view_module": "@jupyter-widgets/controls",
            "_view_module_version": "1.5.0",
            "_view_name": "DropdownView",
            "description": "var",
            "description_tooltip": null,
            "disabled": false,
            "index": 0,
            "layout": "IPY_MODEL_2c7a5de715ff445ca0c52377772b3b49",
            "style": "IPY_MODEL_da2bb6626d7042c6881d4cc0f3e42105"
          }
        },
        "8c8b5681bfb84a94a34c76b22678418a": {
          "model_module": "@jupyter-widgets/output",
          "model_name": "OutputModel",
          "model_module_version": "1.0.0",
          "state": {
            "_dom_classes": [],
            "_model_module": "@jupyter-widgets/output",
            "_model_module_version": "1.0.0",
            "_model_name": "OutputModel",
            "_view_count": null,
            "_view_module": "@jupyter-widgets/output",
            "_view_module_version": "1.0.0",
            "_view_name": "OutputView",
            "layout": "IPY_MODEL_1750cbfed66e4c51ba689ceccfc1bc84",
            "msg_id": "",
            "outputs": [
              {
                "output_type": "display_data",
                "data": {
                  "text/plain": "   num  POPESTIMATE2020  BENFORD'S LAW\n0    1         0.303599       0.301030\n1    2         0.183099       0.176091\n2    3         0.121127       0.124939\n3    4         0.093271       0.096910\n4    5         0.077934       0.079181\n5    6         0.065728       0.066947\n6    7         0.054460       0.057992\n7    8         0.051017       0.051153\n8    9         0.049765       0.045757",
                  "text/html": "\n  <div id=\"df-e54ec70c-3273-48f7-9027-8fbbcb0428a1\">\n    <div class=\"colab-df-container\">\n      <div>\n<style scoped>\n    .dataframe tbody tr th:only-of-type {\n        vertical-align: middle;\n    }\n\n    .dataframe tbody tr th {\n        vertical-align: top;\n    }\n\n    .dataframe thead th {\n        text-align: right;\n    }\n</style>\n<table border=\"1\" class=\"dataframe\">\n  <thead>\n    <tr style=\"text-align: right;\">\n      <th></th>\n      <th>num</th>\n      <th>POPESTIMATE2020</th>\n      <th>BENFORD'S LAW</th>\n    </tr>\n  </thead>\n  <tbody>\n    <tr>\n      <th>0</th>\n      <td>1</td>\n      <td>0.303599</td>\n      <td>0.301030</td>\n    </tr>\n    <tr>\n      <th>1</th>\n      <td>2</td>\n      <td>0.183099</td>\n      <td>0.176091</td>\n    </tr>\n    <tr>\n      <th>2</th>\n      <td>3</td>\n      <td>0.121127</td>\n      <td>0.124939</td>\n    </tr>\n    <tr>\n      <th>3</th>\n      <td>4</td>\n      <td>0.093271</td>\n      <td>0.096910</td>\n    </tr>\n    <tr>\n      <th>4</th>\n      <td>5</td>\n      <td>0.077934</td>\n      <td>0.079181</td>\n    </tr>\n    <tr>\n      <th>5</th>\n      <td>6</td>\n      <td>0.065728</td>\n      <td>0.066947</td>\n    </tr>\n    <tr>\n      <th>6</th>\n      <td>7</td>\n      <td>0.054460</td>\n      <td>0.057992</td>\n    </tr>\n    <tr>\n      <th>7</th>\n      <td>8</td>\n      <td>0.051017</td>\n      <td>0.051153</td>\n    </tr>\n    <tr>\n      <th>8</th>\n      <td>9</td>\n      <td>0.049765</td>\n      <td>0.045757</td>\n    </tr>\n  </tbody>\n</table>\n</div>\n      <button class=\"colab-df-convert\" onclick=\"convertToInteractive('df-e54ec70c-3273-48f7-9027-8fbbcb0428a1')\"\n              title=\"Convert this dataframe to an interactive table.\"\n              style=\"display:none;\">\n        \n  <svg xmlns=\"http://www.w3.org/2000/svg\" height=\"24px\"viewBox=\"0 0 24 24\"\n       width=\"24px\">\n    <path d=\"M0 0h24v24H0V0z\" fill=\"none\"/>\n    <path d=\"M18.56 5.44l.94 2.06.94-2.06 2.06-.94-2.06-.94-.94-2.06-.94 2.06-2.06.94zm-11 1L8.5 8.5l.94-2.06 2.06-.94-2.06-.94L8.5 2.5l-.94 2.06-2.06.94zm10 10l.94 2.06.94-2.06 2.06-.94-2.06-.94-.94-2.06-.94 2.06-2.06.94z\"/><path d=\"M17.41 7.96l-1.37-1.37c-.4-.4-.92-.59-1.43-.59-.52 0-1.04.2-1.43.59L10.3 9.45l-7.72 7.72c-.78.78-.78 2.05 0 2.83L4 21.41c.39.39.9.59 1.41.59.51 0 1.02-.2 1.41-.59l7.78-7.78 2.81-2.81c.8-.78.8-2.07 0-2.86zM5.41 20L4 18.59l7.72-7.72 1.47 1.35L5.41 20z\"/>\n  </svg>\n      </button>\n      \n  <style>\n    .colab-df-container {\n      display:flex;\n      flex-wrap:wrap;\n      gap: 12px;\n    }\n\n    .colab-df-convert {\n      background-color: #E8F0FE;\n      border: none;\n      border-radius: 50%;\n      cursor: pointer;\n      display: none;\n      fill: #1967D2;\n      height: 32px;\n      padding: 0 0 0 0;\n      width: 32px;\n    }\n\n    .colab-df-convert:hover {\n      background-color: #E2EBFA;\n      box-shadow: 0px 1px 2px rgba(60, 64, 67, 0.3), 0px 1px 3px 1px rgba(60, 64, 67, 0.15);\n      fill: #174EA6;\n    }\n\n    [theme=dark] .colab-df-convert {\n      background-color: #3B4455;\n      fill: #D2E3FC;\n    }\n\n    [theme=dark] .colab-df-convert:hover {\n      background-color: #434B5C;\n      box-shadow: 0px 1px 3px 1px rgba(0, 0, 0, 0.15);\n      filter: drop-shadow(0px 1px 2px rgba(0, 0, 0, 0.3));\n      fill: #FFFFFF;\n    }\n  </style>\n\n      <script>\n        const buttonEl =\n          document.querySelector('#df-e54ec70c-3273-48f7-9027-8fbbcb0428a1 button.colab-df-convert');\n        buttonEl.style.display =\n          google.colab.kernel.accessAllowed ? 'block' : 'none';\n\n        async function convertToInteractive(key) {\n          const element = document.querySelector('#df-e54ec70c-3273-48f7-9027-8fbbcb0428a1');\n          const dataTable =\n            await google.colab.kernel.invokeFunction('convertToInteractive',\n                                                     [key], {});\n          if (!dataTable) return;\n\n          const docLinkHtml = 'Like what you see? Visit the ' +\n            '<a target=\"_blank\" href=https://colab.research.google.com/notebooks/data_table.ipynb>data table notebook</a>'\n            + ' to learn more about interactive tables.';\n          element.innerHTML = '';\n          dataTable['output_type'] = 'display_data';\n          await google.colab.output.renderOutput(dataTable, element);\n          const docLink = document.createElement('div');\n          docLink.innerHTML = docLinkHtml;\n          element.appendChild(docLink);\n        }\n      </script>\n    </div>\n  </div>\n  "
                },
                "metadata": {}
              },
              {
                "output_type": "stream",
                "name": "stdout",
                "text": [
                  "\n"
                ]
              },
              {
                "output_type": "display_data",
                "data": {
                  "text/plain": "<Figure size 640x480 with 1 Axes>",
                  "image/png": "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\n"
                },
                "metadata": {}
              },
              {
                "output_type": "stream",
                "name": "stdout",
                "text": [
                  "\n",
                  "Chi-Square Goodness of Fit Test\n",
                  "Test Statistic: 0.001162073752975824\n",
                  "p-value: 0.9999999999999952\n"
                ]
              }
            ]
          }
        },
        "8d049f536ac24a5685947081fc0309eb": {
          "model_module": "@jupyter-widgets/base",
          "model_name": "LayoutModel",
          "model_module_version": "1.2.0",
          "state": {
            "_model_module": "@jupyter-widgets/base",
            "_model_module_version": "1.2.0",
            "_model_name": "LayoutModel",
            "_view_count": null,
            "_view_module": "@jupyter-widgets/base",
            "_view_module_version": "1.2.0",
            "_view_name": "LayoutView",
            "align_content": null,
            "align_items": null,
            "align_self": null,
            "border": null,
            "bottom": null,
            "display": null,
            "flex": null,
            "flex_flow": null,
            "grid_area": null,
            "grid_auto_columns": null,
            "grid_auto_flow": null,
            "grid_auto_rows": null,
            "grid_column": null,
            "grid_gap": null,
            "grid_row": null,
            "grid_template_areas": null,
            "grid_template_columns": null,
            "grid_template_rows": null,
            "height": null,
            "justify_content": null,
            "justify_items": null,
            "left": null,
            "margin": null,
            "max_height": null,
            "max_width": null,
            "min_height": null,
            "min_width": null,
            "object_fit": null,
            "object_position": null,
            "order": null,
            "overflow": null,
            "overflow_x": null,
            "overflow_y": null,
            "padding": null,
            "right": null,
            "top": null,
            "visibility": null,
            "width": null
          }
        },
        "2c7a5de715ff445ca0c52377772b3b49": {
          "model_module": "@jupyter-widgets/base",
          "model_name": "LayoutModel",
          "model_module_version": "1.2.0",
          "state": {
            "_model_module": "@jupyter-widgets/base",
            "_model_module_version": "1.2.0",
            "_model_name": "LayoutModel",
            "_view_count": null,
            "_view_module": "@jupyter-widgets/base",
            "_view_module_version": "1.2.0",
            "_view_name": "LayoutView",
            "align_content": null,
            "align_items": null,
            "align_self": null,
            "border": null,
            "bottom": null,
            "display": null,
            "flex": null,
            "flex_flow": null,
            "grid_area": null,
            "grid_auto_columns": null,
            "grid_auto_flow": null,
            "grid_auto_rows": null,
            "grid_column": null,
            "grid_gap": null,
            "grid_row": null,
            "grid_template_areas": null,
            "grid_template_columns": null,
            "grid_template_rows": null,
            "height": null,
            "justify_content": null,
            "justify_items": null,
            "left": null,
            "margin": null,
            "max_height": null,
            "max_width": null,
            "min_height": null,
            "min_width": null,
            "object_fit": null,
            "object_position": null,
            "order": null,
            "overflow": null,
            "overflow_x": null,
            "overflow_y": null,
            "padding": null,
            "right": null,
            "top": null,
            "visibility": null,
            "width": null
          }
        },
        "da2bb6626d7042c6881d4cc0f3e42105": {
          "model_module": "@jupyter-widgets/controls",
          "model_name": "DescriptionStyleModel",
          "model_module_version": "1.5.0",
          "state": {
            "_model_module": "@jupyter-widgets/controls",
            "_model_module_version": "1.5.0",
            "_model_name": "DescriptionStyleModel",
            "_view_count": null,
            "_view_module": "@jupyter-widgets/base",
            "_view_module_version": "1.2.0",
            "_view_name": "StyleView",
            "description_width": ""
          }
        },
        "1750cbfed66e4c51ba689ceccfc1bc84": {
          "model_module": "@jupyter-widgets/base",
          "model_name": "LayoutModel",
          "model_module_version": "1.2.0",
          "state": {
            "_model_module": "@jupyter-widgets/base",
            "_model_module_version": "1.2.0",
            "_model_name": "LayoutModel",
            "_view_count": null,
            "_view_module": "@jupyter-widgets/base",
            "_view_module_version": "1.2.0",
            "_view_name": "LayoutView",
            "align_content": null,
            "align_items": null,
            "align_self": null,
            "border": null,
            "bottom": null,
            "display": null,
            "flex": null,
            "flex_flow": null,
            "grid_area": null,
            "grid_auto_columns": null,
            "grid_auto_flow": null,
            "grid_auto_rows": null,
            "grid_column": null,
            "grid_gap": null,
            "grid_row": null,
            "grid_template_areas": null,
            "grid_template_columns": null,
            "grid_template_rows": null,
            "height": null,
            "justify_content": null,
            "justify_items": null,
            "left": null,
            "margin": null,
            "max_height": null,
            "max_width": null,
            "min_height": null,
            "min_width": null,
            "object_fit": null,
            "object_position": null,
            "order": null,
            "overflow": null,
            "overflow_x": null,
            "overflow_y": null,
            "padding": null,
            "right": null,
            "top": null,
            "visibility": null,
            "width": null
          }
        }
      }
    }
  },
  "cells": [
    {
      "cell_type": "markdown",
      "metadata": {
        "id": "view-in-github",
        "colab_type": "text"
      },
      "source": [
        "<a href=\"https://colab.research.google.com/github/mshsu/probasets/blob/main/population_demo.ipynb\" target=\"_parent\"><img src=\"https://colab.research.google.com/assets/colab-badge.svg\" alt=\"Open In Colab\"/></a>"
      ]
    },
    {
      "cell_type": "markdown",
      "source": [
        "#Population Demo\n",
        "\n",
        "Inspired by Dr. Jimmy Doi's [RShiny app](http://shiny.calpoly.sh/BenfordData/).\n",
        "\n",
        "Benford's Law states that in real life numerical data, the leading digits are likely to be small. Do city population estimates from the US Census Bureau follow this law?"
      ],
      "metadata": {
        "id": "wX4cD_n7EAaz"
      }
    },
    {
      "cell_type": "markdown",
      "source": [
        "## Setup"
      ],
      "metadata": {
        "id": "tymU4SYhFqzU"
      }
    },
    {
      "cell_type": "code",
      "source": [
        "import pandas as pd\n",
        "import numpy as np\n",
        "import scipy.stats as stats\n",
        "import matplotlib.pyplot as plt\n",
        "from ipywidgets import interactive\n",
        "import ipywidgets as widgets"
      ],
      "metadata": {
        "id": "HE624Z0AyUgb"
      },
      "execution_count": 65,
      "outputs": []
    },
    {
      "cell_type": "markdown",
      "source": [
        "## Data"
      ],
      "metadata": {
        "id": "ZmACqApuFzWu"
      }
    },
    {
      "cell_type": "code",
      "source": [
        "pop = pd.read_csv(\"https://mshsu.github.io/probasets/data/Population.csv\")[['POPESTIMATE2020', 'POPESTIMATE2021', 'POPESTIMATE2022',\n",
        "                                                                            'BIRTHS2020', 'BIRTHS2021', 'BIRTHS2022',\n",
        "                                                                            'DEATHS2020','DEATHS2021','DEATHS2022']]\n",
        "pop.head()"
      ],
      "metadata": {
        "id": "0yZCVFqtEYVA",
        "colab": {
          "base_uri": "https://localhost:8080/",
          "height": 206
        },
        "outputId": "8051e825-2ff2-4d2e-adfd-2d5bfe092875"
      },
      "execution_count": 66,
      "outputs": [
        {
          "output_type": "execute_result",
          "data": {
            "text/plain": [
              "   POPESTIMATE2020  POPESTIMATE2021  POPESTIMATE2022  BIRTHS2020  BIRTHS2021  \\\n",
              "0          5031362          5049846          5074296       13867       57112   \n",
              "1            58902            59210            59759         162         694   \n",
              "2           233219           239361           246435         560        2367   \n",
              "3            24960            24539            24706          60         276   \n",
              "4            22183            22370            22005          56         244   \n",
              "\n",
              "   BIRTHS2022  DEATHS2020  DEATHS2021  DEATHS2022  \n",
              "0       58280       15165       69056       66870  \n",
              "1         709         177         682         673  \n",
              "2        2411         593        3044        2909  \n",
              "3         277          93         383         372  \n",
              "4         248          55         318         321  "
            ],
            "text/html": [
              "\n",
              "  <div id=\"df-4fa394a4-911c-4e89-8066-f7c348fe42a6\">\n",
              "    <div class=\"colab-df-container\">\n",
              "      <div>\n",
              "<style scoped>\n",
              "    .dataframe tbody tr th:only-of-type {\n",
              "        vertical-align: middle;\n",
              "    }\n",
              "\n",
              "    .dataframe tbody tr th {\n",
              "        vertical-align: top;\n",
              "    }\n",
              "\n",
              "    .dataframe thead th {\n",
              "        text-align: right;\n",
              "    }\n",
              "</style>\n",
              "<table border=\"1\" class=\"dataframe\">\n",
              "  <thead>\n",
              "    <tr style=\"text-align: right;\">\n",
              "      <th></th>\n",
              "      <th>POPESTIMATE2020</th>\n",
              "      <th>POPESTIMATE2021</th>\n",
              "      <th>POPESTIMATE2022</th>\n",
              "      <th>BIRTHS2020</th>\n",
              "      <th>BIRTHS2021</th>\n",
              "      <th>BIRTHS2022</th>\n",
              "      <th>DEATHS2020</th>\n",
              "      <th>DEATHS2021</th>\n",
              "      <th>DEATHS2022</th>\n",
              "    </tr>\n",
              "  </thead>\n",
              "  <tbody>\n",
              "    <tr>\n",
              "      <th>0</th>\n",
              "      <td>5031362</td>\n",
              "      <td>5049846</td>\n",
              "      <td>5074296</td>\n",
              "      <td>13867</td>\n",
              "      <td>57112</td>\n",
              "      <td>58280</td>\n",
              "      <td>15165</td>\n",
              "      <td>69056</td>\n",
              "      <td>66870</td>\n",
              "    </tr>\n",
              "    <tr>\n",
              "      <th>1</th>\n",
              "      <td>58902</td>\n",
              "      <td>59210</td>\n",
              "      <td>59759</td>\n",
              "      <td>162</td>\n",
              "      <td>694</td>\n",
              "      <td>709</td>\n",
              "      <td>177</td>\n",
              "      <td>682</td>\n",
              "      <td>673</td>\n",
              "    </tr>\n",
              "    <tr>\n",
              "      <th>2</th>\n",
              "      <td>233219</td>\n",
              "      <td>239361</td>\n",
              "      <td>246435</td>\n",
              "      <td>560</td>\n",
              "      <td>2367</td>\n",
              "      <td>2411</td>\n",
              "      <td>593</td>\n",
              "      <td>3044</td>\n",
              "      <td>2909</td>\n",
              "    </tr>\n",
              "    <tr>\n",
              "      <th>3</th>\n",
              "      <td>24960</td>\n",
              "      <td>24539</td>\n",
              "      <td>24706</td>\n",
              "      <td>60</td>\n",
              "      <td>276</td>\n",
              "      <td>277</td>\n",
              "      <td>93</td>\n",
              "      <td>383</td>\n",
              "      <td>372</td>\n",
              "    </tr>\n",
              "    <tr>\n",
              "      <th>4</th>\n",
              "      <td>22183</td>\n",
              "      <td>22370</td>\n",
              "      <td>22005</td>\n",
              "      <td>56</td>\n",
              "      <td>244</td>\n",
              "      <td>248</td>\n",
              "      <td>55</td>\n",
              "      <td>318</td>\n",
              "      <td>321</td>\n",
              "    </tr>\n",
              "  </tbody>\n",
              "</table>\n",
              "</div>\n",
              "      <button class=\"colab-df-convert\" onclick=\"convertToInteractive('df-4fa394a4-911c-4e89-8066-f7c348fe42a6')\"\n",
              "              title=\"Convert this dataframe to an interactive table.\"\n",
              "              style=\"display:none;\">\n",
              "        \n",
              "  <svg xmlns=\"http://www.w3.org/2000/svg\" height=\"24px\"viewBox=\"0 0 24 24\"\n",
              "       width=\"24px\">\n",
              "    <path d=\"M0 0h24v24H0V0z\" fill=\"none\"/>\n",
              "    <path d=\"M18.56 5.44l.94 2.06.94-2.06 2.06-.94-2.06-.94-.94-2.06-.94 2.06-2.06.94zm-11 1L8.5 8.5l.94-2.06 2.06-.94-2.06-.94L8.5 2.5l-.94 2.06-2.06.94zm10 10l.94 2.06.94-2.06 2.06-.94-2.06-.94-.94-2.06-.94 2.06-2.06.94z\"/><path d=\"M17.41 7.96l-1.37-1.37c-.4-.4-.92-.59-1.43-.59-.52 0-1.04.2-1.43.59L10.3 9.45l-7.72 7.72c-.78.78-.78 2.05 0 2.83L4 21.41c.39.39.9.59 1.41.59.51 0 1.02-.2 1.41-.59l7.78-7.78 2.81-2.81c.8-.78.8-2.07 0-2.86zM5.41 20L4 18.59l7.72-7.72 1.47 1.35L5.41 20z\"/>\n",
              "  </svg>\n",
              "      </button>\n",
              "      \n",
              "  <style>\n",
              "    .colab-df-container {\n",
              "      display:flex;\n",
              "      flex-wrap:wrap;\n",
              "      gap: 12px;\n",
              "    }\n",
              "\n",
              "    .colab-df-convert {\n",
              "      background-color: #E8F0FE;\n",
              "      border: none;\n",
              "      border-radius: 50%;\n",
              "      cursor: pointer;\n",
              "      display: none;\n",
              "      fill: #1967D2;\n",
              "      height: 32px;\n",
              "      padding: 0 0 0 0;\n",
              "      width: 32px;\n",
              "    }\n",
              "\n",
              "    .colab-df-convert:hover {\n",
              "      background-color: #E2EBFA;\n",
              "      box-shadow: 0px 1px 2px rgba(60, 64, 67, 0.3), 0px 1px 3px 1px rgba(60, 64, 67, 0.15);\n",
              "      fill: #174EA6;\n",
              "    }\n",
              "\n",
              "    [theme=dark] .colab-df-convert {\n",
              "      background-color: #3B4455;\n",
              "      fill: #D2E3FC;\n",
              "    }\n",
              "\n",
              "    [theme=dark] .colab-df-convert:hover {\n",
              "      background-color: #434B5C;\n",
              "      box-shadow: 0px 1px 3px 1px rgba(0, 0, 0, 0.15);\n",
              "      filter: drop-shadow(0px 1px 2px rgba(0, 0, 0, 0.3));\n",
              "      fill: #FFFFFF;\n",
              "    }\n",
              "  </style>\n",
              "\n",
              "      <script>\n",
              "        const buttonEl =\n",
              "          document.querySelector('#df-4fa394a4-911c-4e89-8066-f7c348fe42a6 button.colab-df-convert');\n",
              "        buttonEl.style.display =\n",
              "          google.colab.kernel.accessAllowed ? 'block' : 'none';\n",
              "\n",
              "        async function convertToInteractive(key) {\n",
              "          const element = document.querySelector('#df-4fa394a4-911c-4e89-8066-f7c348fe42a6');\n",
              "          const dataTable =\n",
              "            await google.colab.kernel.invokeFunction('convertToInteractive',\n",
              "                                                     [key], {});\n",
              "          if (!dataTable) return;\n",
              "\n",
              "          const docLinkHtml = 'Like what you see? Visit the ' +\n",
              "            '<a target=\"_blank\" href=https://colab.research.google.com/notebooks/data_table.ipynb>data table notebook</a>'\n",
              "            + ' to learn more about interactive tables.';\n",
              "          element.innerHTML = '';\n",
              "          dataTable['output_type'] = 'display_data';\n",
              "          await google.colab.output.renderOutput(dataTable, element);\n",
              "          const docLink = document.createElement('div');\n",
              "          docLink.innerHTML = docLinkHtml;\n",
              "          element.appendChild(docLink);\n",
              "        }\n",
              "      </script>\n",
              "    </div>\n",
              "  </div>\n",
              "  "
            ]
          },
          "metadata": {},
          "execution_count": 66
        }
      ]
    },
    {
      "cell_type": "markdown",
      "source": [
        "## Calculating Proportions"
      ],
      "metadata": {
        "id": "mBdnhXPNF1bO"
      }
    },
    {
      "cell_type": "code",
      "source": [
        "def count_first_digit(var):\n",
        "  obs = (pop[pop[var] > 0][var]\n",
        "         .astype(str)\n",
        "         .apply(lambda x: x[0])\n",
        "         .astype(int)\n",
        "         .value_counts(normalize=True)\n",
        "         .sort_index()\n",
        "         .to_frame()\n",
        "         .reset_index(names=\"num\"))\n",
        "\n",
        "  d = pd.Series(range(1, 10))\n",
        "  bfd = np.log10((d + 1) / d).to_frame().rename(columns={0: \"BENFORD'S LAW\"})\n",
        "  bfd['num'] = bfd.index + 1\n",
        "  bfd[['num', \"BENFORD'S LAW\"]]\n",
        "\n",
        "  both = pd.merge(left=obs, right=bfd, on=\"num\")\n",
        "  display(both)\n",
        "\n",
        "  print()\n",
        "  both.plot.bar(x=\"num\")\n",
        "  plt.show()\n",
        "\n",
        "  print()\n",
        "  test_stat, p = stats.chisquare(both[var], both[\"BENFORD'S LAW\"])\n",
        "  print(\"Chi-Square Goodness of Fit Test\")\n",
        "  print(\"Test Statistic:\", test_stat)\n",
        "  print(\"p-value:\", p)  \n",
        "\n",
        "  return obs"
      ],
      "metadata": {
        "id": "GVcj72g9PDHE"
      },
      "execution_count": 67,
      "outputs": []
    },
    {
      "cell_type": "code",
      "source": [
        "i = interactive(count_first_digit, var=list(pop.columns))\n",
        "display(i)\n",
        "obs = i.result"
      ],
      "metadata": {
        "id": "DiI8OGbMPlem",
        "colab": {
          "base_uri": "https://localhost:8080/",
          "height": 877,
          "referenced_widgets": [
            "f2c4bf49c11f4815a2305255753a6d01",
            "31bb1db3fa4b406d80e60b6e1aea178b",
            "8c8b5681bfb84a94a34c76b22678418a",
            "8d049f536ac24a5685947081fc0309eb",
            "2c7a5de715ff445ca0c52377772b3b49",
            "da2bb6626d7042c6881d4cc0f3e42105",
            "1750cbfed66e4c51ba689ceccfc1bc84"
          ]
        },
        "outputId": "ace10a3d-d430-439a-e599-ac8270c98a14"
      },
      "execution_count": 68,
      "outputs": [
        {
          "output_type": "display_data",
          "data": {
            "text/plain": [
              "interactive(children=(Dropdown(description='var', options=('POPESTIMATE2020', 'POPESTIMATE2021', 'POPESTIMATE2…"
            ],
            "application/vnd.jupyter.widget-view+json": {
              "version_major": 2,
              "version_minor": 0,
              "model_id": "f2c4bf49c11f4815a2305255753a6d01"
            }
          },
          "metadata": {}
        }
      ]
    }
  ]
}